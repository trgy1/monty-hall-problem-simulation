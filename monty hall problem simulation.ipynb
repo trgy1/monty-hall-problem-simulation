{
 "cells": [
  {
   "cell_type": "code",
   "execution_count": 12,
   "metadata": {},
   "outputs": [],
   "source": [
    "import numpy as np"
   ]
  },
  {
   "cell_type": "code",
   "execution_count": 37,
   "metadata": {},
   "outputs": [
    {
     "name": "stdout",
     "output_type": "stream",
     "text": [
      "0.334\n"
     ]
    }
   ],
   "source": [
    "total=1000\n",
    "my=0\n",
    "x = np.array([0,0,1])\n",
    "\n",
    "for i in range(total):\n",
    "    # let's say u always choose index 0 firstly and stick with it\n",
    "    np.random.shuffle(x)\n",
    "    my_choose=x[0]\n",
    "    if my_choose == 1:\n",
    "        my+=1\n",
    "print(my/total)"
   ]
  },
  {
   "cell_type": "code",
   "execution_count": 38,
   "metadata": {},
   "outputs": [
    {
     "name": "stdout",
     "output_type": "stream",
     "text": [
      "0.656\n"
     ]
    }
   ],
   "source": [
    "total=1000\n",
    "my=0\n",
    "x = np.array([0,0,1])\n",
    "\n",
    "for i in range(total):\n",
    "    # let's say u always choose index 0 and then change it\n",
    "    my_choose=x[0]\n",
    "    np.random.shuffle(x)\n",
    "    if x[1] == 0:\n",
    "        my_choose=x[2]\n",
    "    elif x[2] == 0:\n",
    "        my_choose=x[1]\n",
    "        \n",
    "    if my_choose == 1:\n",
    "        my+=1\n",
    "print(my/total)"
   ]
  },
  {
   "cell_type": "code",
   "execution_count": null,
   "metadata": {},
   "outputs": [],
   "source": []
  }
 ],
 "metadata": {
  "kernelspec": {
   "display_name": "Python 3",
   "language": "python",
   "name": "python3"
  },
  "language_info": {
   "codemirror_mode": {
    "name": "ipython",
    "version": 3
   },
   "file_extension": ".py",
   "mimetype": "text/x-python",
   "name": "python",
   "nbconvert_exporter": "python",
   "pygments_lexer": "ipython3",
   "version": "3.8.3"
  }
 },
 "nbformat": 4,
 "nbformat_minor": 4
}
